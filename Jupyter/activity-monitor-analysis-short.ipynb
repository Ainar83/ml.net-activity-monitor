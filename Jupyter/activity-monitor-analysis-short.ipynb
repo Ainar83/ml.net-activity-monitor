{
 "cells": [
  {
   "cell_type": "markdown",
   "metadata": {},
   "source": [
    "# Analyze machine learning compressed input data"
   ]
  },
  {
   "cell_type": "code",
   "execution_count": 29,
   "metadata": {},
   "outputs": [],
   "source": [
    "import pandas as pd\n",
    "import matplotlib.pyplot as plt\n",
    "import numpy as np\n",
    "\n",
    "%matplotlib inline "
   ]
  },
  {
   "cell_type": "code",
   "execution_count": 30,
   "metadata": {},
   "outputs": [],
   "source": [
    "df = pd.read_table(\"./data/testDataShort.txt\")"
   ]
  },
  {
   "cell_type": "code",
   "execution_count": 31,
   "metadata": {},
   "outputs": [
    {
     "data": {
      "text/plain": [
       "(622, 10)"
      ]
     },
     "execution_count": 31,
     "metadata": {},
     "output_type": "execute_result"
    }
   ],
   "source": [
    "#see how many rows and columns\n",
    "df.shape "
   ]
  },
  {
   "cell_type": "code",
   "execution_count": 32,
   "metadata": {},
   "outputs": [
    {
     "data": {
      "text/html": [
       "<div>\n",
       "<style scoped>\n",
       "    .dataframe tbody tr th:only-of-type {\n",
       "        vertical-align: middle;\n",
       "    }\n",
       "\n",
       "    .dataframe tbody tr th {\n",
       "        vertical-align: top;\n",
       "    }\n",
       "\n",
       "    .dataframe thead th {\n",
       "        text-align: right;\n",
       "    }\n",
       "</style>\n",
       "<table border=\"1\" class=\"dataframe\">\n",
       "  <thead>\n",
       "    <tr style=\"text-align: right;\">\n",
       "      <th></th>\n",
       "      <th>R</th>\n",
       "      <th>1</th>\n",
       "      <th>2</th>\n",
       "      <th>3</th>\n",
       "      <th>4</th>\n",
       "      <th>5</th>\n",
       "      <th>6</th>\n",
       "      <th>7</th>\n",
       "      <th>8</th>\n",
       "      <th>9</th>\n",
       "    </tr>\n",
       "  </thead>\n",
       "  <tbody>\n",
       "    <tr>\n",
       "      <td>0</td>\n",
       "      <td>0</td>\n",
       "      <td>909</td>\n",
       "      <td>991</td>\n",
       "      <td>1007</td>\n",
       "      <td>976</td>\n",
       "      <td>971</td>\n",
       "      <td>973</td>\n",
       "      <td>976</td>\n",
       "      <td>969</td>\n",
       "      <td>12</td>\n",
       "    </tr>\n",
       "    <tr>\n",
       "      <td>1</td>\n",
       "      <td>0</td>\n",
       "      <td>903</td>\n",
       "      <td>987</td>\n",
       "      <td>1003</td>\n",
       "      <td>970</td>\n",
       "      <td>975</td>\n",
       "      <td>976</td>\n",
       "      <td>980</td>\n",
       "      <td>974</td>\n",
       "      <td>35</td>\n",
       "    </tr>\n",
       "    <tr>\n",
       "      <td>2</td>\n",
       "      <td>0</td>\n",
       "      <td>909</td>\n",
       "      <td>993</td>\n",
       "      <td>1008</td>\n",
       "      <td>976</td>\n",
       "      <td>976</td>\n",
       "      <td>977</td>\n",
       "      <td>980</td>\n",
       "      <td>974</td>\n",
       "      <td>27</td>\n",
       "    </tr>\n",
       "    <tr>\n",
       "      <td>3</td>\n",
       "      <td>0</td>\n",
       "      <td>910</td>\n",
       "      <td>992</td>\n",
       "      <td>1010</td>\n",
       "      <td>977</td>\n",
       "      <td>972</td>\n",
       "      <td>973</td>\n",
       "      <td>977</td>\n",
       "      <td>970</td>\n",
       "      <td>19</td>\n",
       "    </tr>\n",
       "    <tr>\n",
       "      <td>4</td>\n",
       "      <td>0</td>\n",
       "      <td>910</td>\n",
       "      <td>991</td>\n",
       "      <td>1007</td>\n",
       "      <td>975</td>\n",
       "      <td>974</td>\n",
       "      <td>975</td>\n",
       "      <td>980</td>\n",
       "      <td>974</td>\n",
       "      <td>20</td>\n",
       "    </tr>\n",
       "  </tbody>\n",
       "</table>\n",
       "</div>"
      ],
      "text/plain": [
       "   R    1    2     3    4    5    6    7    8   9\n",
       "0  0  909  991  1007  976  971  973  976  969  12\n",
       "1  0  903  987  1003  970  975  976  980  974  35\n",
       "2  0  909  993  1008  976  976  977  980  974  27\n",
       "3  0  910  992  1010  977  972  973  977  970  19\n",
       "4  0  910  991  1007  975  974  975  980  974  20"
      ]
     },
     "execution_count": 32,
     "metadata": {},
     "output_type": "execute_result"
    }
   ],
   "source": [
    "#see the first 5 rows\n",
    "df.head(5) "
   ]
  },
  {
   "cell_type": "code",
   "execution_count": 33,
   "metadata": {},
   "outputs": [
    {
     "data": {
      "text/html": [
       "<div>\n",
       "<style scoped>\n",
       "    .dataframe tbody tr th:only-of-type {\n",
       "        vertical-align: middle;\n",
       "    }\n",
       "\n",
       "    .dataframe tbody tr th {\n",
       "        vertical-align: top;\n",
       "    }\n",
       "\n",
       "    .dataframe thead th {\n",
       "        text-align: right;\n",
       "    }\n",
       "</style>\n",
       "<table border=\"1\" class=\"dataframe\">\n",
       "  <thead>\n",
       "    <tr style=\"text-align: right;\">\n",
       "      <th></th>\n",
       "      <th>R</th>\n",
       "      <th>1</th>\n",
       "      <th>2</th>\n",
       "      <th>3</th>\n",
       "      <th>4</th>\n",
       "      <th>5</th>\n",
       "      <th>6</th>\n",
       "      <th>7</th>\n",
       "      <th>8</th>\n",
       "      <th>9</th>\n",
       "    </tr>\n",
       "  </thead>\n",
       "  <tbody>\n",
       "    <tr>\n",
       "      <td>617</td>\n",
       "      <td>3</td>\n",
       "      <td>917</td>\n",
       "      <td>972</td>\n",
       "      <td>991</td>\n",
       "      <td>978</td>\n",
       "      <td>1005</td>\n",
       "      <td>993</td>\n",
       "      <td>990</td>\n",
       "      <td>983</td>\n",
       "      <td>8</td>\n",
       "    </tr>\n",
       "    <tr>\n",
       "      <td>618</td>\n",
       "      <td>3</td>\n",
       "      <td>916</td>\n",
       "      <td>972</td>\n",
       "      <td>990</td>\n",
       "      <td>977</td>\n",
       "      <td>1004</td>\n",
       "      <td>993</td>\n",
       "      <td>991</td>\n",
       "      <td>981</td>\n",
       "      <td>11</td>\n",
       "    </tr>\n",
       "    <tr>\n",
       "      <td>619</td>\n",
       "      <td>3</td>\n",
       "      <td>916</td>\n",
       "      <td>970</td>\n",
       "      <td>989</td>\n",
       "      <td>976</td>\n",
       "      <td>1004</td>\n",
       "      <td>992</td>\n",
       "      <td>989</td>\n",
       "      <td>981</td>\n",
       "      <td>15</td>\n",
       "    </tr>\n",
       "    <tr>\n",
       "      <td>620</td>\n",
       "      <td>3</td>\n",
       "      <td>916</td>\n",
       "      <td>969</td>\n",
       "      <td>990</td>\n",
       "      <td>976</td>\n",
       "      <td>1004</td>\n",
       "      <td>992</td>\n",
       "      <td>989</td>\n",
       "      <td>980</td>\n",
       "      <td>5</td>\n",
       "    </tr>\n",
       "    <tr>\n",
       "      <td>621</td>\n",
       "      <td>3</td>\n",
       "      <td>915</td>\n",
       "      <td>971</td>\n",
       "      <td>990</td>\n",
       "      <td>978</td>\n",
       "      <td>1011</td>\n",
       "      <td>1003</td>\n",
       "      <td>994</td>\n",
       "      <td>985</td>\n",
       "      <td>32</td>\n",
       "    </tr>\n",
       "  </tbody>\n",
       "</table>\n",
       "</div>"
      ],
      "text/plain": [
       "     R    1    2    3    4     5     6    7    8   9\n",
       "617  3  917  972  991  978  1005   993  990  983   8\n",
       "618  3  916  972  990  977  1004   993  991  981  11\n",
       "619  3  916  970  989  976  1004   992  989  981  15\n",
       "620  3  916  969  990  976  1004   992  989  980   5\n",
       "621  3  915  971  990  978  1011  1003  994  985  32"
      ]
     },
     "execution_count": 33,
     "metadata": {},
     "output_type": "execute_result"
    }
   ],
   "source": [
    "#see the last 5 rows\n",
    "df.tail(5)"
   ]
  },
  {
   "cell_type": "code",
   "execution_count": 34,
   "metadata": {},
   "outputs": [
    {
     "data": {
      "text/plain": [
       "False"
      ]
     },
     "execution_count": 34,
     "metadata": {},
     "output_type": "execute_result"
    }
   ],
   "source": [
    "#check that values are not null\n",
    "df.isnull().values.any()"
   ]
  },
  {
   "cell_type": "code",
   "execution_count": 35,
   "metadata": {},
   "outputs": [],
   "source": [
    "#plot correlation method using matplotlib.pyplot\n",
    "def plot_corr(df, size = 11):\n",
    "    corr = df.corr()\n",
    "    fig, ax = plt.subplots(figsize=(size,size))\n",
    "    ax.matshow(corr)\n",
    "    plt.xticks(range(len(corr.columns)), corr.columns)\n",
    "    plt.yticks(range(len(corr.columns)), corr.columns)"
   ]
  },
  {
   "cell_type": "code",
   "execution_count": 36,
   "metadata": {},
   "outputs": [
    {
     "data": {
      "image/png": "[encoded data removed]",
      "text/plain": [
       "<Figure size 792x792 with 1 Axes>"
      ]
     },
     "metadata": {
      "needs_background": "light"
     },
     "output_type": "display_data"
    }
   ],
   "source": [
    "plot_corr(df)"
   ]
  },
  {
   "cell_type": "code",
   "execution_count": 37,
   "metadata": {},
   "outputs": [
    {
     "data": {
      "text/html": [
       "<div>\n",
       "<style scoped>\n",
       "    .dataframe tbody tr th:only-of-type {\n",
       "        vertical-align: middle;\n",
       "    }\n",
       "\n",
       "    .dataframe tbody tr th {\n",
       "        vertical-align: top;\n",
       "    }\n",
       "\n",
       "    .dataframe thead th {\n",
       "        text-align: right;\n",
       "    }\n",
       "</style>\n",
       "<table border=\"1\" class=\"dataframe\">\n",
       "  <thead>\n",
       "    <tr style=\"text-align: right;\">\n",
       "      <th></th>\n",
       "      <th>R</th>\n",
       "      <th>1</th>\n",
       "      <th>2</th>\n",
       "      <th>3</th>\n",
       "      <th>4</th>\n",
       "      <th>5</th>\n",
       "      <th>6</th>\n",
       "      <th>7</th>\n",
       "      <th>8</th>\n",
       "      <th>9</th>\n",
       "    </tr>\n",
       "  </thead>\n",
       "  <tbody>\n",
       "    <tr>\n",
       "      <td>R</td>\n",
       "      <td>1.000000</td>\n",
       "      <td>0.689591</td>\n",
       "      <td>0.300223</td>\n",
       "      <td>0.314549</td>\n",
       "      <td>0.332280</td>\n",
       "      <td>0.601005</td>\n",
       "      <td>0.405487</td>\n",
       "      <td>0.286134</td>\n",
       "      <td>0.322272</td>\n",
       "      <td>-0.090375</td>\n",
       "    </tr>\n",
       "    <tr>\n",
       "      <td>1</td>\n",
       "      <td>0.689591</td>\n",
       "      <td>1.000000</td>\n",
       "      <td>0.793208</td>\n",
       "      <td>0.803461</td>\n",
       "      <td>0.789428</td>\n",
       "      <td>0.673933</td>\n",
       "      <td>0.240767</td>\n",
       "      <td>0.199612</td>\n",
       "      <td>0.192780</td>\n",
       "      <td>-0.029988</td>\n",
       "    </tr>\n",
       "    <tr>\n",
       "      <td>2</td>\n",
       "      <td>0.300223</td>\n",
       "      <td>0.793208</td>\n",
       "      <td>1.000000</td>\n",
       "      <td>0.986448</td>\n",
       "      <td>0.840449</td>\n",
       "      <td>0.415004</td>\n",
       "      <td>-0.088047</td>\n",
       "      <td>-0.037673</td>\n",
       "      <td>-0.055689</td>\n",
       "      <td>-0.181472</td>\n",
       "    </tr>\n",
       "    <tr>\n",
       "      <td>3</td>\n",
       "      <td>0.314549</td>\n",
       "      <td>0.803461</td>\n",
       "      <td>0.986448</td>\n",
       "      <td>1.000000</td>\n",
       "      <td>0.869206</td>\n",
       "      <td>0.444557</td>\n",
       "      <td>-0.078187</td>\n",
       "      <td>-0.025830</td>\n",
       "      <td>-0.047026</td>\n",
       "      <td>-0.157081</td>\n",
       "    </tr>\n",
       "    <tr>\n",
       "      <td>4</td>\n",
       "      <td>0.332280</td>\n",
       "      <td>0.789428</td>\n",
       "      <td>0.840449</td>\n",
       "      <td>0.869206</td>\n",
       "      <td>1.000000</td>\n",
       "      <td>0.729508</td>\n",
       "      <td>0.119639</td>\n",
       "      <td>0.046665</td>\n",
       "      <td>0.025365</td>\n",
       "      <td>0.120612</td>\n",
       "    </tr>\n",
       "    <tr>\n",
       "      <td>5</td>\n",
       "      <td>0.601005</td>\n",
       "      <td>0.673933</td>\n",
       "      <td>0.415004</td>\n",
       "      <td>0.444557</td>\n",
       "      <td>0.729508</td>\n",
       "      <td>1.000000</td>\n",
       "      <td>0.644904</td>\n",
       "      <td>0.375143</td>\n",
       "      <td>0.303419</td>\n",
       "      <td>0.416067</td>\n",
       "    </tr>\n",
       "    <tr>\n",
       "      <td>6</td>\n",
       "      <td>0.405487</td>\n",
       "      <td>0.240767</td>\n",
       "      <td>-0.088047</td>\n",
       "      <td>-0.078187</td>\n",
       "      <td>0.119639</td>\n",
       "      <td>0.644904</td>\n",
       "      <td>1.000000</td>\n",
       "      <td>0.829596</td>\n",
       "      <td>0.623864</td>\n",
       "      <td>0.631481</td>\n",
       "    </tr>\n",
       "    <tr>\n",
       "      <td>7</td>\n",
       "      <td>0.286134</td>\n",
       "      <td>0.199612</td>\n",
       "      <td>-0.037673</td>\n",
       "      <td>-0.025830</td>\n",
       "      <td>0.046665</td>\n",
       "      <td>0.375143</td>\n",
       "      <td>0.829596</td>\n",
       "      <td>1.000000</td>\n",
       "      <td>0.847687</td>\n",
       "      <td>0.663623</td>\n",
       "    </tr>\n",
       "    <tr>\n",
       "      <td>8</td>\n",
       "      <td>0.322272</td>\n",
       "      <td>0.192780</td>\n",
       "      <td>-0.055689</td>\n",
       "      <td>-0.047026</td>\n",
       "      <td>0.025365</td>\n",
       "      <td>0.303419</td>\n",
       "      <td>0.623864</td>\n",
       "      <td>0.847687</td>\n",
       "      <td>1.000000</td>\n",
       "      <td>0.596355</td>\n",
       "    </tr>\n",
       "    <tr>\n",
       "      <td>9</td>\n",
       "      <td>-0.090375</td>\n",
       "      <td>-0.029988</td>\n",
       "      <td>-0.181472</td>\n",
       "      <td>-0.157081</td>\n",
       "      <td>0.120612</td>\n",
       "      <td>0.416067</td>\n",
       "      <td>0.631481</td>\n",
       "      <td>0.663623</td>\n",
       "      <td>0.596355</td>\n",
       "      <td>1.000000</td>\n",
       "    </tr>\n",
       "  </tbody>\n",
       "</table>\n",
       "</div>"
      ],
      "text/plain": [
       "          R         1         2         3         4         5         6  \\\n",
       "R  1.000000  0.689591  0.300223  0.314549  0.332280  0.601005  0.405487   \n",
       "1  0.689591  1.000000  0.793208  0.803461  0.789428  0.673933  0.240767   \n",
       "2  0.300223  0.793208  1.000000  0.986448  0.840449  0.415004 -0.088047   \n",
       "3  0.314549  0.803461  0.986448  1.000000  0.869206  0.444557 -0.078187   \n",
       "4  0.332280  0.789428  0.840449  0.869206  1.000000  0.729508  0.119639   \n",
       "5  0.601005  0.673933  0.415004  0.444557  0.729508  1.000000  0.644904   \n",
       "6  0.405487  0.240767 -0.088047 -0.078187  0.119639  0.644904  1.000000   \n",
       "7  0.286134  0.199612 -0.037673 -0.025830  0.046665  0.375143  0.829596   \n",
       "8  0.322272  0.192780 -0.055689 -0.047026  0.025365  0.303419  0.623864   \n",
       "9 -0.090375 -0.029988 -0.181472 -0.157081  0.120612  0.416067  0.631481   \n",
       "\n",
       "          7         8         9  \n",
       "R  0.286134  0.322272 -0.090375  \n",
       "1  0.199612  0.192780 -0.029988  \n",
       "2 -0.037673 -0.055689 -0.181472  \n",
       "3 -0.025830 -0.047026 -0.157081  \n",
       "4  0.046665  0.025365  0.120612  \n",
       "5  0.375143  0.303419  0.416067  \n",
       "6  0.829596  0.623864  0.631481  \n",
       "7  1.000000  0.847687  0.663623  \n",
       "8  0.847687  1.000000  0.596355  \n",
       "9  0.663623  0.596355  1.000000  "
      ]
     },
     "execution_count": 37,
     "metadata": {},
     "output_type": "execute_result"
    }
   ],
   "source": [
    "df.corr()"
   ]
  },
  {
   "cell_type": "code",
   "execution_count": 38,
   "metadata": {},
   "outputs": [
    {
     "name": "stdout",
     "output_type": "stream",
     "text": [
      "Empty 201, Moving 36, TV 206, Sleep 3 179, Fall 4 0\n"
     ]
    }
   ],
   "source": [
    "r_empty = len(df.loc[df['R'] == 0])\n",
    "r_move = len(df.loc[df['R'] == 1])\n",
    "r_tv = len(df.loc[df['R'] == 2])\n",
    "r_sleep = len(df.loc[df['R'] == 3])\n",
    "r_fall = len(df.loc[df['R'] == 4])\n",
    "print(\"Empty {0}, Moving {1}, TV {2}, Sleep 3 {3}, Fall 4 {4}\".format(r_empty, r_move, r_tv, r_sleep, r_fall))"
   ]
  },
  {
   "cell_type": "code",
   "execution_count": 40,
   "metadata": {},
   "outputs": [],
   "source": [
    "from sklearn.model_selection import train_test_split\n",
    "\n",
    "feature_col_names = ['1', '2', '3', '4', '5', '6', '7', '8', '9']\n",
    "predicted_class_names = ['R']\n",
    "\n",
    "X = df[feature_col_names].values     \n",
    "y = df[predicted_class_names].values \n",
    "split_test_size = 0.30\n",
    "\n",
    "X_train, X_test, y_train, y_test = train_test_split(X, y, test_size=split_test_size, random_state=42)"
   ]
  },
  {
   "cell_type": "code",
   "execution_count": 82,
   "metadata": {},
   "outputs": [
    {
     "name": "stdout",
     "output_type": "stream",
     "text": [
      "69.86% in training set\n",
      "30.14% in test set\n"
     ]
    }
   ],
   "source": [
    "print(\"{0:0.2f}% in training set\".format((len(X_train)/len(df.index)) * 100))\n",
    "print(\"{0:0.2f}% in test set\".format((len(X_test)/len(df.index)) * 100))"
   ]
  },
  {
   "cell_type": "code",
   "execution_count": 83,
   "metadata": {},
   "outputs": [
    {
     "name": "stdout",
     "output_type": "stream",
     "text": [
      "Original Empty:\t 118 (20.56%)\n",
      "Original Move:\t 142 (24.74%)\n",
      "Original TV:\t 108 (18.82%)\n",
      "Original Sleep:\t 157 (27.35%)\n",
      "Original Fall:\t 49 (8.54%)\n"
     ]
    }
   ],
   "source": [
    "print(\"Original Empty:\\t {0} ({1:0.2f}%)\".format(len(df.loc[df['R'] == 0]), (len(df.loc[df['R'] == 0])/len(df) * 100.0)))\n",
    "print(\"Original Move:\\t {0} ({1:0.2f}%)\".format(len(df.loc[df['R'] == 1]), (len(df.loc[df['R'] == 1])/len(df) * 100.0)))\n",
    "print(\"Original TV:\\t {0} ({1:0.2f}%)\".format(len(df.loc[df['R'] == 2]), (len(df.loc[df['R'] == 2])/len(df) * 100.0)))\n",
    "print(\"Original Sleep:\\t {0} ({1:0.2f}%)\".format(len(df.loc[df['R'] == 3]), (len(df.loc[df['R'] == 3])/len(df) * 100.0)))\n",
    "print(\"Original Fall:\\t {0} ({1:0.2f}%)\".format(len(df.loc[df['R'] == 4]), (len(df.loc[df['R'] == 4])/len(df) * 100.0)))"
   ]
  },
  {
   "cell_type": "code",
   "execution_count": 84,
   "metadata": {},
   "outputs": [
    {
     "name": "stdout",
     "output_type": "stream",
     "text": [
      "Training Empty:\t 75 (18.70%)\n",
      "Training Move:\t 99 (24.69%)\n",
      "Training TV:\t 81 (20.20%)\n",
      "Training Sleep:\t 114 (28.43%)\n",
      "Training Fall:\t 32 (7.98%)\n"
     ]
    }
   ],
   "source": [
    "print(\"Training Empty:\\t {0} ({1:0.2f}%)\".format(len(y_train[y_train[:] == 0]), (len(y_train[y_train[:] == 0])/len(y_train) * 100.0)))\n",
    "print(\"Training Move:\\t {0} ({1:0.2f}%)\".format(len(y_train[y_train[:] == 1]), (len(y_train[y_train[:] == 1])/len(y_train) * 100.0)))\n",
    "print(\"Training TV:\\t {0} ({1:0.2f}%)\".format(len(y_train[y_train[:] == 2]), (len(y_train[y_train[:] == 2])/len(y_train) * 100.0)))\n",
    "print(\"Training Sleep:\\t {0} ({1:0.2f}%)\".format(len(y_train[y_train[:] == 3]), (len(y_train[y_train[:] == 3])/len(y_train) * 100.0)))\n",
    "print(\"Training Fall:\\t {0} ({1:0.2f}%)\".format(len(y_train[y_train[:] == 4]), (len(y_train[y_train[:] == 4])/len(y_train) * 100.0)))"
   ]
  },
  {
   "cell_type": "code",
   "execution_count": 85,
   "metadata": {},
   "outputs": [
    {
     "name": "stdout",
     "output_type": "stream",
     "text": [
      "Test Empty:\t 43 (24.86%)\n",
      "Test Move:\t 43 (24.86%)\n",
      "Test TV:\t 27 (15.61%)\n",
      "Test Sleep:\t 43 (24.86%)\n",
      "Test Fall:\t 17 (9.83%)\n"
     ]
    }
   ],
   "source": [
    "print(\"Test Empty:\\t {0} ({1:0.2f}%)\".format(len(y_test[y_test[:] == 0]), (len(y_test[y_test[:] == 0])/len(y_test) * 100.0)))\n",
    "print(\"Test Move:\\t {0} ({1:0.2f}%)\".format(len(y_test[y_test[:] == 1]), (len(y_test[y_test[:] == 1])/len(y_test) * 100.0)))\n",
    "print(\"Test TV:\\t {0} ({1:0.2f}%)\".format(len(y_test[y_test[:] == 2]), (len(y_test[y_test[:] == 2])/len(y_test) * 100.0)))\n",
    "print(\"Test Sleep:\\t {0} ({1:0.2f}%)\".format(len(y_test[y_test[:] == 3]), (len(y_test[y_test[:] == 3])/len(y_test) * 100.0)))\n",
    "print(\"Test Fall:\\t {0} ({1:0.2f}%)\".format(len(y_test[y_test[:] == 4]), (len(y_test[y_test[:] == 4])/len(y_test) * 100.0)))"
   ]
  },
  {
   "cell_type": "code",
   "execution_count": 86,
   "metadata": {},
   "outputs": [],
   "source": [
    "from sklearn.impute import SimpleImputer\n",
    "\n",
    "fill_0 = SimpleImputer(missing_values=0, strategy=\"mean\")#, axis=0)\n",
    "X_train = fill_0.fit_transform(X_train)\n",
    "X_test = fill_0.fit_transform(X_test)\n"
   ]
  },
  {
   "cell_type": "code",
   "execution_count": 87,
   "metadata": {},
   "outputs": [
    {
     "name": "stdout",
     "output_type": "stream",
     "text": [
      "GaussianNB training data accuracy: 1.0000\n",
      "GaussianNB test data accuracy: 0.9711\n",
      "GaussianNB Confusion Matrix\n",
      "[[43  0  0  0  0]\n",
      " [ 0 42  0  0  1]\n",
      " [ 0  1 24  0  2]\n",
      " [ 0  1  0 42  0]\n",
      " [ 0  0  0  0 17]]\n",
      "GaussianNB Classification Report\n",
      "              precision    recall  f1-score   support\n",
      "\n",
      "           0       1.00      1.00      1.00        43\n",
      "           1       0.95      0.98      0.97        43\n",
      "           2       1.00      0.89      0.94        27\n",
      "           3       1.00      0.98      0.99        43\n",
      "           4       0.85      1.00      0.92        17\n",
      "\n",
      "    accuracy                           0.97       173\n",
      "   macro avg       0.96      0.97      0.96       173\n",
      "weighted avg       0.97      0.97      0.97       173\n",
      "\n"
     ]
    }
   ],
   "source": [
    "from sklearn.naive_bayes import GaussianNB\n",
    "from sklearn import metrics\n",
    "\n",
    "nb_model = GaussianNB()\n",
    "nb_model.fit(X_train, y_train.ravel())\n",
    "\n",
    "nb_predict_train = nb_model.predict(X_train)\n",
    "print(\"GaussianNB training data accuracy: {0:.4f}\".format(metrics.accuracy_score(y_train, nb_predict_train)))\n",
    "nb_predict_test = nb_model.predict(X_test)\n",
    "print(\"GaussianNB test data accuracy: {0:.4f}\".format(metrics.accuracy_score(y_test, nb_predict_test)))\n",
    "\n",
    "print(\"GaussianNB Confusion Matrix\")\n",
    "print(\"{0}\".format(metrics.confusion_matrix(y_test, nb_predict_test)))\n",
    "print(\"GaussianNB Classification Report\")\n",
    "print(metrics.classification_report(y_test, nb_predict_test))"
   ]
  },
  {
   "cell_type": "code",
   "execution_count": 88,
   "metadata": {},
   "outputs": [
    {
     "name": "stdout",
     "output_type": "stream",
     "text": [
      "RandomForestClassifier training data accuracy: 1.0000\n",
      "RandomForestClassifier test data accuracy: 1.0000\n",
      "RandomForestClassifier Confusion Matrix\n",
      "[[43  0  0  0  0]\n",
      " [ 0 43  0  0  0]\n",
      " [ 0  0 27  0  0]\n",
      " [ 0  0  0 43  0]\n",
      " [ 0  0  0  0 17]]\n",
      "RandomForestClassifier Classification Report\n",
      "              precision    recall  f1-score   support\n",
      "\n",
      "           0       1.00      1.00      1.00        43\n",
      "           1       1.00      1.00      1.00        43\n",
      "           2       1.00      1.00      1.00        27\n",
      "           3       1.00      1.00      1.00        43\n",
      "           4       1.00      1.00      1.00        17\n",
      "\n",
      "    accuracy                           1.00       173\n",
      "   macro avg       1.00      1.00      1.00       173\n",
      "weighted avg       1.00      1.00      1.00       173\n",
      "\n"
     ]
    }
   ],
   "source": [
    "from sklearn.ensemble import RandomForestClassifier\n",
    "\n",
    "rf_model = RandomForestClassifier(random_state=42, n_estimators=10)\n",
    "rf_model.fit(X_train, y_train.ravel())\n",
    "\n",
    "rf_predict_train = rf_model.predict(X_train)\n",
    "print(\"RandomForestClassifier training data accuracy: {0:.4f}\".format(metrics.accuracy_score(y_train, rf_predict_train)))\n",
    "rf_predict_test = rf_model.predict(X_test)\n",
    "print(\"RandomForestClassifier test data accuracy: {0:.4f}\".format(metrics.accuracy_score(y_test, rf_predict_test)))\n",
    "\n",
    "print(\"RandomForestClassifier Confusion Matrix\")\n",
    "print(\"{0}\".format(metrics.confusion_matrix(y_test, rf_predict_test)))\n",
    "print(\"RandomForestClassifier Classification Report\")\n",
    "print(metrics.classification_report(y_test, rf_predict_test))"
   ]
  },
  {
   "cell_type": "code",
   "execution_count": 89,
   "metadata": {},
   "outputs": [
    {
     "name": "stdout",
     "output_type": "stream",
     "text": [
      "LogisticRegression training data accuracy: 1.0000\n",
      "LogisticRegression liblinear test data accuracy: 0.9884\n",
      "LogisticRegression Confusion Matrix\n",
      "[[43  0  0  0  0]\n",
      " [ 1 41  0  0  1]\n",
      " [ 0  0 27  0  0]\n",
      " [ 0  0  0 43  0]\n",
      " [ 0  0  0  0 17]]\n",
      "LogisticRegression Classification Report\n",
      "              precision    recall  f1-score   support\n",
      "\n",
      "           0       0.98      1.00      0.99        43\n",
      "           1       1.00      0.95      0.98        43\n",
      "           2       1.00      1.00      1.00        27\n",
      "           3       1.00      1.00      1.00        43\n",
      "           4       0.94      1.00      0.97        17\n",
      "\n",
      "    accuracy                           0.99       173\n",
      "   macro avg       0.98      0.99      0.99       173\n",
      "weighted avg       0.99      0.99      0.99       173\n",
      "\n"
     ]
    },
    {
     "name": "stderr",
     "output_type": "stream",
     "text": [
      "C:\\Users\\ainar\\AppData\\Local\\Continuum\\anaconda3\\lib\\site-packages\\sklearn\\linear_model\\logistic.py:469: FutureWarning: Default multi_class will be changed to 'auto' in 0.22. Specify the multi_class option to silence this warning.\n",
      "  \"this warning.\", FutureWarning)\n"
     ]
    }
   ],
   "source": [
    "from sklearn.linear_model import LogisticRegression\n",
    "\n",
    "lr_model =LogisticRegression(C=0.7, solver='liblinear', random_state=42)\n",
    "lr_model.fit(X_train, y_train.ravel())\n",
    "\n",
    "lr_predict_train = lr_model.predict(X_train)\n",
    "print(\"LogisticRegression training data accuracy: {0:.4f}\".format(metrics.accuracy_score(y_train, lr_predict_train)))\n",
    "lr_predict_test = lr_model.predict(X_test)\n",
    "print(\"LogisticRegression liblinear test data accuracy: {0:.4f}\".format(metrics.accuracy_score(y_test, lr_predict_test)))\n",
    "\n",
    "print(\"LogisticRegression Confusion Matrix\")\n",
    "print(\"{0}\".format(metrics.confusion_matrix(y_test, lr_predict_test)))\n",
    "print(\"LogisticRegression Classification Report\")\n",
    "print(metrics.classification_report(y_test, lr_predict_test))"
   ]
  },
  {
   "cell_type": "code",
   "execution_count": 90,
   "metadata": {},
   "outputs": [
    {
     "name": "stdout",
     "output_type": "stream",
     "text": [
      "Accuracy: 0.9884\n",
      "[[43  0  0  0  0]\n",
      " [ 1 41  0  0  1]\n",
      " [ 0  0 27  0  0]\n",
      " [ 0  0  0 43  0]\n",
      " [ 0  0  0  0 17]]\n",
      "Classification Report\n",
      "              precision    recall  f1-score   support\n",
      "\n",
      "           0       0.98      1.00      0.99        43\n",
      "           1       1.00      0.95      0.98        43\n",
      "           2       1.00      1.00      1.00        27\n",
      "           3       1.00      1.00      1.00        43\n",
      "           4       0.94      1.00      0.97        17\n",
      "\n",
      "    accuracy                           0.99       173\n",
      "   macro avg       0.98      0.99      0.99       173\n",
      "weighted avg       0.99      0.99      0.99       173\n",
      "\n"
     ]
    },
    {
     "name": "stderr",
     "output_type": "stream",
     "text": [
      "C:\\Users\\ainar\\AppData\\Local\\Continuum\\anaconda3\\lib\\site-packages\\sklearn\\linear_model\\logistic.py:469: FutureWarning: Default multi_class will be changed to 'auto' in 0.22. Specify the multi_class option to silence this warning.\n",
      "  \"this warning.\", FutureWarning)\n"
     ]
    }
   ],
   "source": [
    "from sklearn.linear_model import LogisticRegression\n",
    "\n",
    "lr_model =LogisticRegression( class_weight=\"balanced\", solver='liblinear', random_state=42)\n",
    "lr_model.fit(X_train, y_train.ravel())\n",
    "lr_predict_test = lr_model.predict(X_test)\n",
    "\n",
    "print(\"Accuracy: {0:.4f}\".format(metrics.accuracy_score(y_test, lr_predict_test)))\n",
    "print(metrics.confusion_matrix(y_test, lr_predict_test) )\n",
    "print(\"Classification Report\")\n",
    "print(metrics.classification_report(y_test, lr_predict_test))"
   ]
  },
  {
   "cell_type": "code",
   "execution_count": 91,
   "metadata": {},
   "outputs": [
    {
     "name": "stderr",
     "output_type": "stream",
     "text": [
      "C:\\Users\\ainar\\AppData\\Local\\Continuum\\anaconda3\\lib\\site-packages\\sklearn\\linear_model\\logistic.py:469: FutureWarning: Default multi_class will be changed to 'auto' in 0.22. Specify the multi_class option to silence this warning.\n",
      "  \"this warning.\", FutureWarning)\n"
     ]
    },
    {
     "data": {
      "text/plain": [
       "LogisticRegressionCV(Cs=3, class_weight='balanced', cv=10, dual=False,\n",
       "                     fit_intercept=True, intercept_scaling=1.0, l1_ratios=None,\n",
       "                     max_iter=100, multi_class='warn', n_jobs=-1, penalty='l2',\n",
       "                     random_state=42, refit=False, scoring=None, solver='lbfgs',\n",
       "                     tol=0.0001, verbose=0)"
      ]
     },
     "execution_count": 91,
     "metadata": {},
     "output_type": "execute_result"
    }
   ],
   "source": [
    "from sklearn.linear_model import LogisticRegressionCV\n",
    "lr_cv_model = LogisticRegressionCV(n_jobs=-1, random_state=42, Cs=3, cv=10, refit=False, class_weight=\"balanced\")\n",
    "lr_cv_model.fit(X_train, y_train.ravel())"
   ]
  },
  {
   "cell_type": "code",
   "execution_count": 92,
   "metadata": {},
   "outputs": [
    {
     "name": "stdout",
     "output_type": "stream",
     "text": [
      "Accuracy: 0.9884\n",
      "[[43  0  0  0  0]\n",
      " [ 0 42  0  0  1]\n",
      " [ 0  0 27  0  0]\n",
      " [ 0  0  0 43  0]\n",
      " [ 0  0  1  0 16]]\n",
      "Classification Report\n",
      "              precision    recall  f1-score   support\n",
      "\n",
      "           0       1.00      1.00      1.00        43\n",
      "           1       1.00      0.98      0.99        43\n",
      "           2       0.96      1.00      0.98        27\n",
      "           3       1.00      1.00      1.00        43\n",
      "           4       0.94      0.94      0.94        17\n",
      "\n",
      "    accuracy                           0.99       173\n",
      "   macro avg       0.98      0.98      0.98       173\n",
      "weighted avg       0.99      0.99      0.99       173\n",
      "\n"
     ]
    }
   ],
   "source": [
    "lr_cv_predict_test = lr_cv_model.predict(X_test)\n",
    "\n",
    "print(\"Accuracy: {0:.4f}\".format(metrics.accuracy_score(y_test, lr_cv_predict_test)))\n",
    "print(metrics.confusion_matrix(y_test, lr_cv_predict_test) )\n",
    "print(\"Classification Report\")\n",
    "print(metrics.classification_report(y_test, lr_cv_predict_test))"
   ]
  },
  {
   "cell_type": "code",
   "execution_count": null,
   "metadata": {},
   "outputs": [],
   "source": []
  },
  {
   "cell_type": "code",
   "execution_count": null,
   "metadata": {},
   "outputs": [],
   "source": []
  }
 ],
 "metadata": {
  "kernelspec": {
   "display_name": "Python 3",
   "language": "python",
   "name": "python3"
  },
  "language_info": {
   "codemirror_mode": {
    "name": "ipython",
    "version": 3
   },
   "file_extension": ".py",
   "mimetype": "text/x-python",
   "name": "python",
   "nbconvert_exporter": "python",
   "pygments_lexer": "ipython3",
   "version": "3.7.4"
  }
 },
 "nbformat": 4,
 "nbformat_minor": 2
}
